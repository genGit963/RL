{
 "cells": [
  {
   "cell_type": "code",
   "execution_count": 2,
   "id": "0bf6ba4b-76f6-4965-85c6-c8f32adb24f4",
   "metadata": {},
   "outputs": [
    {
     "name": "stdout",
     "output_type": "stream",
     "text": [
      "Requirement already satisfied: torch in /Users/eudgen/Documents/Software Engineering/Artificial Intelligence/Machine Learning/Reinforcement Learning/conda_rl/env/lib/python3.11/site-packages (2.1.0)\n",
      "Collecting torchvision\n",
      "  Downloading torchvision-0.16.0-cp311-cp311-macosx_11_0_arm64.whl.metadata (6.6 kB)\n",
      "Collecting torchaudio\n",
      "  Downloading torchaudio-2.1.0-cp311-cp311-macosx_11_0_arm64.whl.metadata (5.7 kB)\n",
      "Requirement already satisfied: filelock in /Users/eudgen/Documents/Software Engineering/Artificial Intelligence/Machine Learning/Reinforcement Learning/conda_rl/env/lib/python3.11/site-packages (from torch) (3.13.0)\n",
      "Requirement already satisfied: typing-extensions in /Users/eudgen/Documents/Software Engineering/Artificial Intelligence/Machine Learning/Reinforcement Learning/conda_rl/env/lib/python3.11/site-packages (from torch) (4.7.1)\n",
      "Requirement already satisfied: sympy in /Users/eudgen/Documents/Software Engineering/Artificial Intelligence/Machine Learning/Reinforcement Learning/conda_rl/env/lib/python3.11/site-packages (from torch) (1.12)\n",
      "Requirement already satisfied: networkx in /Users/eudgen/Documents/Software Engineering/Artificial Intelligence/Machine Learning/Reinforcement Learning/conda_rl/env/lib/python3.11/site-packages (from torch) (3.2.1)\n",
      "Requirement already satisfied: jinja2 in /Users/eudgen/Documents/Software Engineering/Artificial Intelligence/Machine Learning/Reinforcement Learning/conda_rl/env/lib/python3.11/site-packages (from torch) (3.1.2)\n",
      "Requirement already satisfied: fsspec in /Users/eudgen/Documents/Software Engineering/Artificial Intelligence/Machine Learning/Reinforcement Learning/conda_rl/env/lib/python3.11/site-packages (from torch) (2023.10.0)\n",
      "Requirement already satisfied: numpy in /Users/eudgen/Documents/Software Engineering/Artificial Intelligence/Machine Learning/Reinforcement Learning/conda_rl/env/lib/python3.11/site-packages (from torchvision) (1.26.1)\n",
      "Requirement already satisfied: requests in /Users/eudgen/Documents/Software Engineering/Artificial Intelligence/Machine Learning/Reinforcement Learning/conda_rl/env/lib/python3.11/site-packages (from torchvision) (2.31.0)\n",
      "Requirement already satisfied: pillow!=8.3.*,>=5.3.0 in /Users/eudgen/Documents/Software Engineering/Artificial Intelligence/Machine Learning/Reinforcement Learning/conda_rl/env/lib/python3.11/site-packages (from torchvision) (10.1.0)\n",
      "Requirement already satisfied: MarkupSafe>=2.0 in /Users/eudgen/Documents/Software Engineering/Artificial Intelligence/Machine Learning/Reinforcement Learning/conda_rl/env/lib/python3.11/site-packages (from jinja2->torch) (2.1.1)\n",
      "Requirement already satisfied: charset-normalizer<4,>=2 in /Users/eudgen/Documents/Software Engineering/Artificial Intelligence/Machine Learning/Reinforcement Learning/conda_rl/env/lib/python3.11/site-packages (from requests->torchvision) (2.0.4)\n",
      "Requirement already satisfied: idna<4,>=2.5 in /Users/eudgen/Documents/Software Engineering/Artificial Intelligence/Machine Learning/Reinforcement Learning/conda_rl/env/lib/python3.11/site-packages (from requests->torchvision) (3.4)\n",
      "Requirement already satisfied: urllib3<3,>=1.21.1 in /Users/eudgen/Documents/Software Engineering/Artificial Intelligence/Machine Learning/Reinforcement Learning/conda_rl/env/lib/python3.11/site-packages (from requests->torchvision) (1.26.18)\n",
      "Requirement already satisfied: certifi>=2017.4.17 in /Users/eudgen/Documents/Software Engineering/Artificial Intelligence/Machine Learning/Reinforcement Learning/conda_rl/env/lib/python3.11/site-packages (from requests->torchvision) (2023.7.22)\n",
      "Requirement already satisfied: mpmath>=0.19 in /Users/eudgen/Documents/Software Engineering/Artificial Intelligence/Machine Learning/Reinforcement Learning/conda_rl/env/lib/python3.11/site-packages (from sympy->torch) (1.3.0)\n",
      "Downloading torchvision-0.16.0-cp311-cp311-macosx_11_0_arm64.whl (1.6 MB)\n",
      "\u001b[2K   \u001b[90m━━━━━━━━━━━━━━━━━━━━━━━━━━━━━━━━━━━━━━━━\u001b[0m \u001b[32m1.6/1.6 MB\u001b[0m \u001b[31m1.1 MB/s\u001b[0m eta \u001b[36m0:00:00\u001b[0m00:01\u001b[0m00:01\u001b[0m0m\n",
      "\u001b[?25hDownloading torchaudio-2.1.0-cp311-cp311-macosx_11_0_arm64.whl (1.7 MB)\n",
      "\u001b[2K   \u001b[90m━━━━━━━━━━━━━━━━━━━━━━━━━━━━━━━━━━━━━━━━\u001b[0m \u001b[32m1.7/1.7 MB\u001b[0m \u001b[31m752.6 kB/s\u001b[0m eta \u001b[36m0:00:00\u001b[0ma \u001b[36m0:00:01\u001b[0m\n",
      "\u001b[?25hInstalling collected packages: torchvision, torchaudio\n",
      "Successfully installed torchaudio-2.1.0 torchvision-0.16.0\n"
     ]
    }
   ],
   "source": [
    "!pip3 install torch torchvision torchaudio\n"
   ]
  },
  {
   "cell_type": "markdown",
   "id": "3369d38e-5dda-4846-b5b4-a4092a5146a4",
   "metadata": {},
   "source": [
    "## Importing Dependencies"
   ]
  },
  {
   "cell_type": "code",
   "execution_count": 5,
   "id": "d5e71266-6b3b-4154-8e76-5a078b7eba21",
   "metadata": {},
   "outputs": [],
   "source": [
    "from torch import nn\n",
    "from torch.optim import Adam\n",
    "from torch.utils.data import DataLoader \n",
    "\n",
    "from torchvision import datasets\n",
    "from torchvision.transforms  import ToTensor"
   ]
  },
  {
   "cell_type": "markdown",
   "id": "58c9c28c-da54-43d1-a5de-4e4557d0c5ad",
   "metadata": {},
   "source": [
    "## Getting the Data"
   ]
  },
  {
   "cell_type": "code",
   "execution_count": 7,
   "id": "eb4f3206-7392-4732-b493-661487076604",
   "metadata": {},
   "outputs": [
    {
     "name": "stdout",
     "output_type": "stream",
     "text": [
      "Downloading http://yann.lecun.com/exdb/mnist/train-images-idx3-ubyte.gz\n",
      "Downloading http://yann.lecun.com/exdb/mnist/train-images-idx3-ubyte.gz to data/MNIST/raw/train-images-idx3-ubyte.gz\n"
     ]
    },
    {
     "name": "stderr",
     "output_type": "stream",
     "text": [
      "100%|████████████████████████████████████████████████████████████████████████████████████████████████████████████████████████████████| 9912422/9912422 [00:38<00:00, 258191.75it/s]\n"
     ]
    },
    {
     "name": "stdout",
     "output_type": "stream",
     "text": [
      "Extracting data/MNIST/raw/train-images-idx3-ubyte.gz to data/MNIST/raw\n",
      "\n",
      "Downloading http://yann.lecun.com/exdb/mnist/train-labels-idx1-ubyte.gz\n",
      "Downloading http://yann.lecun.com/exdb/mnist/train-labels-idx1-ubyte.gz to data/MNIST/raw/train-labels-idx1-ubyte.gz\n"
     ]
    },
    {
     "name": "stderr",
     "output_type": "stream",
     "text": [
      "100%|██████████████████████████████████████████████████████████████████████████████████████████████████████████████████████████████████| 28881/28881 [00:00<00:00, 43154860.64it/s]"
     ]
    },
    {
     "name": "stdout",
     "output_type": "stream",
     "text": [
      "Extracting data/MNIST/raw/train-labels-idx1-ubyte.gz to data/MNIST/raw\n",
      "\n",
      "Downloading http://yann.lecun.com/exdb/mnist/t10k-images-idx3-ubyte.gz\n"
     ]
    },
    {
     "name": "stderr",
     "output_type": "stream",
     "text": [
      "\n"
     ]
    },
    {
     "name": "stdout",
     "output_type": "stream",
     "text": [
      "Downloading http://yann.lecun.com/exdb/mnist/t10k-images-idx3-ubyte.gz to data/MNIST/raw/t10k-images-idx3-ubyte.gz\n"
     ]
    },
    {
     "name": "stderr",
     "output_type": "stream",
     "text": [
      "100%|████████████████████████████████████████████████████████████████████████████████████████████████████████████████████████████████| 1648877/1648877 [00:06<00:00, 269844.50it/s]\n"
     ]
    },
    {
     "name": "stdout",
     "output_type": "stream",
     "text": [
      "Extracting data/MNIST/raw/t10k-images-idx3-ubyte.gz to data/MNIST/raw\n",
      "\n",
      "Downloading http://yann.lecun.com/exdb/mnist/t10k-labels-idx1-ubyte.gz\n",
      "Downloading http://yann.lecun.com/exdb/mnist/t10k-labels-idx1-ubyte.gz to data/MNIST/raw/t10k-labels-idx1-ubyte.gz\n"
     ]
    },
    {
     "name": "stderr",
     "output_type": "stream",
     "text": [
      "100%|████████████████████████████████████████████████████████████████████████████████████████████████████████████████████████████████████| 4542/4542 [00:00<00:00, 12516773.17it/s]"
     ]
    },
    {
     "name": "stdout",
     "output_type": "stream",
     "text": [
      "Extracting data/MNIST/raw/t10k-labels-idx1-ubyte.gz to data/MNIST/raw\n",
      "\n"
     ]
    },
    {
     "name": "stderr",
     "output_type": "stream",
     "text": [
      "\n"
     ]
    }
   ],
   "source": [
    " train = datasets.MNIST(root=\"data\", download=True, train=True, transform=ToTensor())"
   ]
  },
  {
   "cell_type": "code",
   "execution_count": 9,
   "id": "573b0964-6aff-4bbe-b006-ef6348b24c52",
   "metadata": {},
   "outputs": [],
   "source": [
    "dataset = DataLoader(train, 32)"
   ]
  },
  {
   "cell_type": "code",
   "execution_count": 10,
   "id": "bc94f204-671e-423a-9613-3a8428192a25",
   "metadata": {},
   "outputs": [
    {
     "data": {
      "text/plain": [
       "<torch.utils.data.dataloader.DataLoader at 0x1491e8fd0>"
      ]
     },
     "execution_count": 10,
     "metadata": {},
     "output_type": "execute_result"
    }
   ],
   "source": [
    "dataset"
   ]
  },
  {
   "cell_type": "code",
   "execution_count": null,
   "id": "bf717a0b-5669-4ce8-9480-bfd961a8060c",
   "metadata": {},
   "outputs": [],
   "source": []
  }
 ],
 "metadata": {
  "kernelspec": {
   "display_name": "Python 3 (ipykernel)",
   "language": "python",
   "name": "python3"
  },
  "language_info": {
   "codemirror_mode": {
    "name": "ipython",
    "version": 3
   },
   "file_extension": ".py",
   "mimetype": "text/x-python",
   "name": "python",
   "nbconvert_exporter": "python",
   "pygments_lexer": "ipython3",
   "version": "3.11.5"
  }
 },
 "nbformat": 4,
 "nbformat_minor": 5
}
