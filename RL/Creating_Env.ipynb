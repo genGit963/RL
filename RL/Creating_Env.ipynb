{
 "cells": [
  {
   "cell_type": "markdown",
   "id": "c50b496e-0bf2-4a16-9f53-418676b82936",
   "metadata": {},
   "source": [
    "# 1. Dependencies#"
   ]
  },
  {
   "cell_type": "code",
   "execution_count": 160,
   "id": "12cb4d0b-745a-4694-9cce-df8272a4bad7",
   "metadata": {},
   "outputs": [],
   "source": [
    "# gym stuff\n",
    "import gymnasium as gym\n",
    "from gymnasium import Env\n",
    "from gymnasium.spaces import Discrete, Box, Dict, Tuple, MultiBinary, MultiDiscrete\n",
    "\n",
    "# helper\n",
    "import os\n",
    "import numpy as np\n",
    "import random\n",
    "\n",
    "# stable baselines3 stuff\n",
    "from stable_baselines3 import PPO\n",
    "from stable_baselines3.common.vec_env import DummyVecEnv\n",
    "from stable_baselines3.common.evaluation import evaluate_policy"
   ]
  },
  {
   "cell_type": "markdown",
   "id": "fe31a421-fc93-45f9-afaf-63f5fd67e1aa",
   "metadata": {},
   "source": [
    "# 2. Types of Space"
   ]
  },
  {
   "cell_type": "code",
   "execution_count": 161,
   "id": "d90d7d42-cfcb-4fa6-8418-9abe85abf1a1",
   "metadata": {},
   "outputs": [],
   "source": [
    "# Discrete(): Invoking this create th ACTION_SPACE \n",
    "# from 0 to 2 descision\n",
    "actionSpaces = Discrete(3)"
   ]
  },
  {
   "cell_type": "code",
   "execution_count": 162,
   "id": "7186a87d-c939-45e1-9b86-671beb808afa",
   "metadata": {},
   "outputs": [],
   "source": [
    "#Creating box\n",
    "box = Box(0,1,shape=(3,3))"
   ]
  },
  {
   "cell_type": "code",
   "execution_count": 163,
   "id": "21cbd3fb-ead6-4935-97b1-cf567b086aed",
   "metadata": {},
   "outputs": [
    {
     "data": {
      "text/plain": [
       "array([[0.8084121 , 0.34665006, 0.0068737 ],\n",
       "       [0.9799128 , 0.71945274, 0.49349838],\n",
       "       [0.783046  , 0.8934588 , 0.3021645 ]], dtype=float32)"
      ]
     },
     "execution_count": 163,
     "metadata": {},
     "output_type": "execute_result"
    }
   ],
   "source": [
    "box.sample()"
   ]
  },
  {
   "cell_type": "code",
   "execution_count": 164,
   "id": "6722c9d8-8771-484c-9434-03d0ed823668",
   "metadata": {},
   "outputs": [
    {
     "data": {
      "text/plain": [
       "(2,\n",
       " array([[0.57283753, 0.822394  , 0.38000485],\n",
       "        [0.7932067 , 0.01089187, 0.23661691],\n",
       "        [0.53170264, 0.96461344, 0.31651884]], dtype=float32))"
      ]
     },
     "execution_count": 164,
     "metadata": {},
     "output_type": "execute_result"
    }
   ],
   "source": [
    "# Tuple\n",
    "tuple = Tuple((actionSpaces, box))\n",
    "tuple.sample()"
   ]
  },
  {
   "cell_type": "code",
   "execution_count": 165,
   "id": "83a83db2-5a55-465e-b239-9d03a74e79c4",
   "metadata": {},
   "outputs": [
    {
     "data": {
      "text/plain": [
       "(2,\n",
       " array([[0.25513625, 0.12523969, 0.79276216],\n",
       "        [0.52013123, 0.7806507 , 0.4976875 ],\n",
       "        [0.36425987, 0.34302422, 0.50235224]], dtype=float32),\n",
       " array([2.537261], dtype=float32))"
      ]
     },
     "execution_count": 165,
     "metadata": {},
     "output_type": "execute_result"
    }
   ],
   "source": [
    "Tuple((actionSpaces, box, Box(0,3,shape=(1,)))).sample()"
   ]
  },
  {
   "cell_type": "code",
   "execution_count": 166,
   "id": "f27aabf3-7fa5-4f8c-9ce2-19506534bf19",
   "metadata": {},
   "outputs": [
    {
     "data": {
      "text/plain": [
       "OrderedDict([('braking', 1), ('speed', array([48.109997], dtype=float32))])"
      ]
     },
     "execution_count": 166,
     "metadata": {},
     "output_type": "execute_result"
    }
   ],
   "source": [
    "#Dict\n",
    "dict = Dict({'braking':Discrete(2), 'speed':Box(0,100, shape=(1,))})\n",
    "dict.sample()"
   ]
  },
  {
   "cell_type": "code",
   "execution_count": 167,
   "id": "6abfa95f-ee76-4b7e-aad1-0edf99102211",
   "metadata": {},
   "outputs": [
    {
     "data": {
      "text/plain": [
       "OrderedDict([('accelerate', 1),\n",
       "             ('braking', 0),\n",
       "             ('speed', array([69.28961], dtype=float32))])"
      ]
     },
     "execution_count": 167,
     "metadata": {},
     "output_type": "execute_result"
    }
   ],
   "source": [
    "Dict({'braking':Discrete(2), 'speed':Box(0,100, shape=(1,)), 'accelerate':Discrete(2)}).sample()"
   ]
  },
  {
   "cell_type": "code",
   "execution_count": 168,
   "id": "b606160e-7c94-421b-89fd-99505103660b",
   "metadata": {},
   "outputs": [
    {
     "data": {
      "text/plain": [
       "array([1, 1, 1, 0], dtype=int8)"
      ]
     },
     "execution_count": 168,
     "metadata": {},
     "output_type": "execute_result"
    }
   ],
   "source": [
    "#MultiBinary\n",
    "MultiBinary(4).sample()"
   ]
  },
  {
   "cell_type": "code",
   "execution_count": 169,
   "id": "237fd1f8-0b89-4d18-b200-174755950395",
   "metadata": {},
   "outputs": [
    {
     "data": {
      "text/plain": [
       "array([1, 0], dtype=int8)"
      ]
     },
     "execution_count": 169,
     "metadata": {},
     "output_type": "execute_result"
    }
   ],
   "source": [
    "MultiBinary(2).sample()"
   ]
  },
  {
   "cell_type": "code",
   "execution_count": 170,
   "id": "4d4d90d2-4d9a-4128-a763-b0a7da8b491a",
   "metadata": {},
   "outputs": [
    {
     "data": {
      "text/plain": [
       "array([2, 0, 0])"
      ]
     },
     "execution_count": 170,
     "metadata": {},
     "output_type": "execute_result"
    }
   ],
   "source": [
    "#MultiDiscrete \n",
    "MultiDiscrete([3, 2, 1]).sample() # see the range randomization"
   ]
  },
  {
   "cell_type": "code",
   "execution_count": 171,
   "id": "32b4dddc-faa6-48df-a05b-51813231fce1",
   "metadata": {},
   "outputs": [
    {
     "data": {
      "text/plain": [
       "array([0, 2, 0, 3])"
      ]
     },
     "execution_count": 171,
     "metadata": {},
     "output_type": "execute_result"
    }
   ],
   "source": [
    "MultiDiscrete([4,3,1,4]).sample()"
   ]
  },
  {
   "cell_type": "code",
   "execution_count": 172,
   "id": "f2c3cb0f-0c22-42d4-a305-f4ead96416e4",
   "metadata": {},
   "outputs": [
    {
     "data": {
      "text/plain": [
       "array([71.50397], dtype=float32)"
      ]
     },
     "execution_count": 172,
     "metadata": {},
     "output_type": "execute_result"
    }
   ],
   "source": [
    "Box(low=0, high=100, shape=(1,)).sample()"
   ]
  },
  {
   "cell_type": "markdown",
   "id": "9a1e871e-88ab-48b8-9567-665ae824455f",
   "metadata": {},
   "source": [
    "# 3. Building an environment\n",
    "\n",
    "    - eg: Building agent that gives the favorable water for showering\n",
    "    - Temp Flucation : agent act with change in temperature and maintain to 35 to 39"
   ]
  },
  {
   "cell_type": "markdown",
   "id": "7efbee5a-e29b-4fca-a472-1485cbecd1f4",
   "metadata": {},
   "source": [
    "        About Env and agent:\n",
    "        \n",
    "         action_space: Discrete(3) => 0: hold, 1: down, 2: up\n",
    "         \n",
    "         observation_space: range from 0 to 100 centigrade\n",
    "         \n",
    "         state: first initial state then working/tracking state \n",
    "\n",
    "         episdoe_len : how long it will end first bathing or episode\n",
    "\n",
    "         reward: if temp: (35 to 39): +1 else -1\n",
    "\n",
    "         done/terminated: bool True if episode_len<=0 else keep working\n",
    "\n",
    "         info: {} give info if system need\n",
    "        \n",
    "         "
   ]
  },
  {
   "cell_type": "code",
   "execution_count": 227,
   "id": "5e51d3fa-71f3-49a9-8bf5-bcefb657c94d",
   "metadata": {},
   "outputs": [],
   "source": [
    "class ShowerEnv(Env):\n",
    "    def __init__(self):\n",
    "        self.action_space = Discrete(3)\n",
    "        self.observation_space = Box(low=0, high=100, shape=(1,))\n",
    "        self.state = 38 + random.randint(-5,5)\n",
    "        self.shower_length = 60 # shower duration = 60sec\n",
    "        \n",
    " \n",
    "        \n",
    "    def step(self, action):\n",
    "        #Adjust state of temp\n",
    "        self.state += action-1\n",
    "\n",
    "        #Showertime\n",
    "        self.shower_length -= 1\n",
    "\n",
    "        #Calculate Reward\n",
    "        if self.state >=37 and self.state <=39:\n",
    "            reward = 1 \n",
    "        else:\n",
    "            reward = -1\n",
    "            \n",
    "\n",
    "        #Termination\n",
    "        if self.shower_length <=0:\n",
    "            done = True\n",
    "        else:\n",
    "            done = False\n",
    "\n",
    "        #info\n",
    "        info = {}\n",
    "        return self.state, reward, done, info\n",
    "    \n",
    "    def render(self):\n",
    "        #nothing to show to human except text\n",
    "        pass\n",
    "        \n",
    "    def reset(self):\n",
    "        self.showerlength = 60\n",
    "        self.state = np.array([38+random.randint(-5,5)]).astype(np.float32)\n",
    "        return self.state\n",
    "    "
   ]
  },
  {
   "cell_type": "markdown",
   "id": "45a0bcb1-c3d1-4921-b05f-e8de996d1664",
   "metadata": {},
   "source": [
    "# 4. Test Environment"
   ]
  },
  {
   "cell_type": "code",
   "execution_count": 228,
   "id": "1a9687e5-3de5-4777-8be2-90c82e35c869",
   "metadata": {},
   "outputs": [],
   "source": [
    "env = ShowerEnv() #creating env"
   ]
  },
  {
   "cell_type": "code",
   "execution_count": 229,
   "id": "026980b4-97b5-473a-9125-3a6a65deca99",
   "metadata": {},
   "outputs": [],
   "source": [
    "# env.reset()"
   ]
  },
  {
   "cell_type": "code",
   "execution_count": 230,
   "id": "45b5ee0e-8a01-4a8f-bf24-c411e84917b9",
   "metadata": {},
   "outputs": [],
   "source": [
    "# from stable_baselines3.common.env_checker import check_env"
   ]
  },
  {
   "cell_type": "code",
   "execution_count": 231,
   "id": "a4251123-2a51-4325-a58b-7bcd2df9673c",
   "metadata": {},
   "outputs": [],
   "source": [
    "# check_env(env, warn=True)"
   ]
  },
  {
   "cell_type": "code",
   "execution_count": null,
   "id": "4e7efe0f-859e-4bd3-a995-bae6663a967b",
   "metadata": {},
   "outputs": [],
   "source": []
  },
  {
   "cell_type": "code",
   "execution_count": 235,
   "id": "2d64d203-7c3f-4ec2-b068-8b6450ead2f5",
   "metadata": {},
   "outputs": [
    {
     "name": "stdout",
     "output_type": "stream",
     "text": [
      "[40.]\n",
      "[40.]\n",
      "Episode:1 Score:-1\n",
      "[37.]\n",
      "[37.]\n",
      "Episode:2 Score:1\n",
      "[39.]\n",
      "[40.]\n",
      "Episode:3 Score:-1\n",
      "[36.]\n",
      "[36.]\n",
      "Episode:4 Score:-1\n",
      "[38.]\n",
      "[39.]\n",
      "Episode:5 Score:1\n"
     ]
    }
   ],
   "source": [
    "#testing env\n",
    "episodes = 5\n",
    "for episode in range(1, episodes+1):\n",
    "    er = env.reset()\n",
    "    print(er)\n",
    "    done = False\n",
    "    score = 0 \n",
    "    \n",
    "    while not done:\n",
    "        env.render()\n",
    "        action = env.action_space.sample()\n",
    "        er, reward, done, info = env.step(action)\n",
    "        print(er)\n",
    "        score +=reward\n",
    "    print('Episode:{} Score:{}'.format(episode, score))\n",
    "env.close()\n"
   ]
  },
  {
   "cell_type": "markdown",
   "id": "edabd7f8-6bd5-4503-abb6-fc9b79d5aaf8",
   "metadata": {},
   "source": [
    " # 5. Train Environment"
   ]
  },
  {
   "cell_type": "code",
   "execution_count": 238,
   "id": "5755f3dc-b4e2-433f-a7af-eb195f69b0f8",
   "metadata": {},
   "outputs": [
    {
     "ename": "SyntaxError",
     "evalue": "invalid syntax (3401137256.py, line 3)",
     "output_type": "error",
     "traceback": [
      "\u001b[0;36m  Cell \u001b[0;32mIn[238], line 3\u001b[0;36m\u001b[0m\n\u001b[0;31m    model.learn(total_timesteps=10000, progress_bar=True)??\u001b[0m\n\u001b[0m                                                         ^\u001b[0m\n\u001b[0;31mSyntaxError\u001b[0m\u001b[0;31m:\u001b[0m invalid syntax\n"
     ]
    }
   ],
   "source": [
    "log_path = os.path.join('Training', 'Logs')\n",
    "model = PPO(\"MlpPolicy\", env, verbose=1, tensorboard_log=log_path)\n",
    "model.learn(total_timesteps=10000, progress_bar=True)"
   ]
  },
  {
   "cell_type": "markdown",
   "id": "629da5e0-26ae-4673-abed-4b321192d62c",
   "metadata": {},
   "source": [
    "# 6. Save Model"
   ]
  },
  {
   "cell_type": "code",
   "execution_count": null,
   "id": "ca86a669-42c1-4440-b144-69b90f9d63a8",
   "metadata": {},
   "outputs": [],
   "source": []
  }
 ],
 "metadata": {
  "kernelspec": {
   "display_name": "Python 3 (ipykernel)",
   "language": "python",
   "name": "python3"
  },
  "language_info": {
   "codemirror_mode": {
    "name": "ipython",
    "version": 3
   },
   "file_extension": ".py",
   "mimetype": "text/x-python",
   "name": "python",
   "nbconvert_exporter": "python",
   "pygments_lexer": "ipython3",
   "version": "3.11.5"
  }
 },
 "nbformat": 4,
 "nbformat_minor": 5
}
