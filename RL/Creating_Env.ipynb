{
 "cells": [
  {
   "cell_type": "markdown",
   "id": "c50b496e-0bf2-4a16-9f53-418676b82936",
   "metadata": {},
   "source": [
    "# 1. Dependencies#"
   ]
  },
  {
   "cell_type": "code",
   "execution_count": 3,
   "id": "12cb4d0b-745a-4694-9cce-df8272a4bad7",
   "metadata": {},
   "outputs": [],
   "source": [
    "# gym stuff\n",
    "import gymnasium as gym\n",
    "from gymnasium import Env\n",
    "from gymnasium.spaces import Discrete, Box, Dict, Tuple, MultiBinary, MultiDiscrete\n",
    "\n",
    "# helper\n",
    "import os\n",
    "import numpy as np\n",
    "import random\n",
    "\n",
    "# stable baselines3 stuff\n",
    "from stable_baselines3 import PPO\n",
    "from stable_baselines3.common.vec_env import DummyVecEnv\n",
    "from stable_baselines3.common.evaluation import evaluate_policy"
   ]
  },
  {
   "cell_type": "markdown",
   "id": "fe31a421-fc93-45f9-afaf-63f5fd67e1aa",
   "metadata": {},
   "source": [
    "# 2. Types of Space"
   ]
  },
  {
   "cell_type": "code",
   "execution_count": 38,
   "id": "d90d7d42-cfcb-4fa6-8418-9abe85abf1a1",
   "metadata": {},
   "outputs": [],
   "source": [
    "# Discrete(): Invoking this create th ACTION_SPACE \n",
    "# from 0 to 2 descision\n",
    "actionSpaces = Discrete(3)"
   ]
  },
  {
   "cell_type": "code",
   "execution_count": 28,
   "id": "7186a87d-c939-45e1-9b86-671beb808afa",
   "metadata": {},
   "outputs": [],
   "source": [
    "#Creating box\n",
    "box = Box(0,1,shape=(3,3))"
   ]
  },
  {
   "cell_type": "code",
   "execution_count": 29,
   "id": "21cbd3fb-ead6-4935-97b1-cf567b086aed",
   "metadata": {},
   "outputs": [
    {
     "data": {
      "text/plain": [
       "array([[0.21002984, 0.88315535, 0.48412606],\n",
       "       [0.93003005, 0.9716447 , 0.02538518],\n",
       "       [0.61330354, 0.62346697, 0.10115568]], dtype=float32)"
      ]
     },
     "execution_count": 29,
     "metadata": {},
     "output_type": "execute_result"
    }
   ],
   "source": [
    "box.sample()"
   ]
  },
  {
   "cell_type": "code",
   "execution_count": 45,
   "id": "6722c9d8-8771-484c-9434-03d0ed823668",
   "metadata": {},
   "outputs": [
    {
     "data": {
      "text/plain": [
       "(0,\n",
       " array([[0.77726066, 0.10319824, 0.23602076],\n",
       "        [0.61056846, 0.27630007, 0.9005226 ],\n",
       "        [0.52653867, 0.07611253, 0.3097697 ]], dtype=float32))"
      ]
     },
     "execution_count": 45,
     "metadata": {},
     "output_type": "execute_result"
    }
   ],
   "source": [
    "# Tuple\n",
    "tuple = Tuple((actionSpaces, box))\n",
    "tuple.sample()"
   ]
  },
  {
   "cell_type": "code",
   "execution_count": 74,
   "id": "83a83db2-5a55-465e-b239-9d03a74e79c4",
   "metadata": {},
   "outputs": [
    {
     "data": {
      "text/plain": [
       "(0,\n",
       " array([[0.16486232, 0.9671017 , 0.93417126],\n",
       "        [0.4632621 , 0.9804114 , 0.9256742 ],\n",
       "        [0.75942975, 0.20578282, 0.03242498]], dtype=float32),\n",
       " array([2.754945], dtype=float32))"
      ]
     },
     "execution_count": 74,
     "metadata": {},
     "output_type": "execute_result"
    }
   ],
   "source": [
    "Tuple((actionSpaces, box, Box(0,3,shape=(1,)))).sample()"
   ]
  },
  {
   "cell_type": "code",
   "execution_count": 51,
   "id": "f27aabf3-7fa5-4f8c-9ce2-19506534bf19",
   "metadata": {},
   "outputs": [
    {
     "data": {
      "text/plain": [
       "OrderedDict([('braking', 1), ('speed', array([40.241207], dtype=float32))])"
      ]
     },
     "execution_count": 51,
     "metadata": {},
     "output_type": "execute_result"
    }
   ],
   "source": [
    "#Dict\n",
    "dict = Dict({'braking':Discrete(2), 'speed':Box(0,100, shape=(1,))})\n",
    "dict.sample()"
   ]
  },
  {
   "cell_type": "code",
   "execution_count": 68,
   "id": "6abfa95f-ee76-4b7e-aad1-0edf99102211",
   "metadata": {},
   "outputs": [
    {
     "data": {
      "text/plain": [
       "OrderedDict([('accelerate', 1),\n",
       "             ('braking', 1),\n",
       "             ('speed', array([63.21558], dtype=float32))])"
      ]
     },
     "execution_count": 68,
     "metadata": {},
     "output_type": "execute_result"
    }
   ],
   "source": [
    "Dict({'braking':Discrete(2), 'speed':Box(0,100, shape=(1,)), 'accelerate':Discrete(2)}).sample()"
   ]
  },
  {
   "cell_type": "code",
   "execution_count": 64,
   "id": "b606160e-7c94-421b-89fd-99505103660b",
   "metadata": {},
   "outputs": [
    {
     "data": {
      "text/plain": [
       "array([1, 1, 0, 0], dtype=int8)"
      ]
     },
     "execution_count": 64,
     "metadata": {},
     "output_type": "execute_result"
    }
   ],
   "source": [
    "#MultiBinary\n",
    "MultiBinary(4).sample()"
   ]
  },
  {
   "cell_type": "code",
   "execution_count": 65,
   "id": "237fd1f8-0b89-4d18-b200-174755950395",
   "metadata": {},
   "outputs": [
    {
     "data": {
      "text/plain": [
       "array([1, 1], dtype=int8)"
      ]
     },
     "execution_count": 65,
     "metadata": {},
     "output_type": "execute_result"
    }
   ],
   "source": [
    "MultiBinary(2).sample()"
   ]
  },
  {
   "cell_type": "code",
   "execution_count": 61,
   "id": "4d4d90d2-4d9a-4128-a763-b0a7da8b491a",
   "metadata": {},
   "outputs": [
    {
     "data": {
      "text/plain": [
       "array([1, 0, 0])"
      ]
     },
     "execution_count": 61,
     "metadata": {},
     "output_type": "execute_result"
    }
   ],
   "source": [
    "#MultiDiscrete \n",
    "MultiDiscrete([3, 2, 1]).sample() # see the range randomization"
   ]
  },
  {
   "cell_type": "code",
   "execution_count": 62,
   "id": "32b4dddc-faa6-48df-a05b-51813231fce1",
   "metadata": {},
   "outputs": [
    {
     "data": {
      "text/plain": [
       "array([2, 0, 0, 0])"
      ]
     },
     "execution_count": 62,
     "metadata": {},
     "output_type": "execute_result"
    }
   ],
   "source": [
    "MultiDiscrete([4,3,1,4]).sample()"
   ]
  },
  {
   "cell_type": "code",
   "execution_count": null,
   "id": "900b95c6-1b77-4731-9d90-fdd110ddcfb8",
   "metadata": {},
   "outputs": [],
   "source": []
  },
  {
   "cell_type": "code",
   "execution_count": null,
   "id": "12593c11-8acc-402c-986e-e99b1de6beb3",
   "metadata": {},
   "outputs": [],
   "source": []
  },
  {
   "cell_type": "code",
   "execution_count": null,
   "id": "24aa9171-cf54-4268-bbe6-9f80f9ea5956",
   "metadata": {},
   "outputs": [],
   "source": []
  },
  {
   "cell_type": "markdown",
   "id": "9a1e871e-88ab-48b8-9567-665ae824455f",
   "metadata": {},
   "source": [
    "# 3. Building an environment"
   ]
  },
  {
   "cell_type": "markdown",
   "id": "45a0bcb1-c3d1-4921-b05f-e8de996d1664",
   "metadata": {},
   "source": [
    "# 4. Test Environment"
   ]
  },
  {
   "cell_type": "markdown",
   "id": "edabd7f8-6bd5-4503-abb6-fc9b79d5aaf8",
   "metadata": {},
   "source": [
    " # 5. Train Environment"
   ]
  },
  {
   "cell_type": "markdown",
   "id": "629da5e0-26ae-4673-abed-4b321192d62c",
   "metadata": {},
   "source": [
    "# 6. Save Model"
   ]
  }
 ],
 "metadata": {
  "kernelspec": {
   "display_name": "Python 3 (ipykernel)",
   "language": "python",
   "name": "python3"
  },
  "language_info": {
   "codemirror_mode": {
    "name": "ipython",
    "version": 3
   },
   "file_extension": ".py",
   "mimetype": "text/x-python",
   "name": "python",
   "nbconvert_exporter": "python",
   "pygments_lexer": "ipython3",
   "version": "3.11.5"
  }
 },
 "nbformat": 4,
 "nbformat_minor": 5
}
