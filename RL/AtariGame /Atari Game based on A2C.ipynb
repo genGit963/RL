{
 "cells": [
  {
   "cell_type": "code",
   "execution_count": 2,
   "id": "d6a19629",
   "metadata": {},
   "outputs": [],
   "source": [
    "# !pip install 'stable_baselines3[extra]'\n",
    "# !pip install tensorflow"
   ]
  },
  {
   "cell_type": "code",
   "execution_count": 1,
   "id": "f1e39ee4-be84-4666-8483-7569cca42e0f",
   "metadata": {},
   "outputs": [],
   "source": [
    "import os\n",
    "import gymnasium as gym\n",
    "from stable_baselines3 import A2C\n",
    "from stable_baselines3.common.vec_env import VecFrameStack\n",
    "from stable_baselines3.common.evaluation import evaluate_policy\n",
    "from stable_baselines3.common.env_util import make_atari_env"
   ]
  },
  {
   "cell_type": "code",
   "execution_count": 2,
   "id": "0c20cc53-c66b-4f92-8899-41e35b2050ea",
   "metadata": {},
   "outputs": [
    {
     "name": "stderr",
     "output_type": "stream",
     "text": [
      "A.L.E: Arcade Learning Environment (version 0.8.1+53f58b7)\n",
      "[Powered by Stella]\n"
     ]
    }
   ],
   "source": [
    "# making and testing the environment \n",
    "env_name = 'Breakout-v4'\n",
    "env = gym.make(env_name, render_mode=\"human\")"
   ]
  },
  {
   "cell_type": "code",
   "execution_count": 3,
   "id": "3f13210e-f2ce-4c36-bb0f-4f5848c0d20e",
   "metadata": {},
   "outputs": [
    {
     "data": {
      "text/plain": [
       "(array([[[0, 0, 0],\n",
       "         [0, 0, 0],\n",
       "         [0, 0, 0],\n",
       "         ...,\n",
       "         [0, 0, 0],\n",
       "         [0, 0, 0],\n",
       "         [0, 0, 0]],\n",
       " \n",
       "        [[0, 0, 0],\n",
       "         [0, 0, 0],\n",
       "         [0, 0, 0],\n",
       "         ...,\n",
       "         [0, 0, 0],\n",
       "         [0, 0, 0],\n",
       "         [0, 0, 0]],\n",
       " \n",
       "        [[0, 0, 0],\n",
       "         [0, 0, 0],\n",
       "         [0, 0, 0],\n",
       "         ...,\n",
       "         [0, 0, 0],\n",
       "         [0, 0, 0],\n",
       "         [0, 0, 0]],\n",
       " \n",
       "        ...,\n",
       " \n",
       "        [[0, 0, 0],\n",
       "         [0, 0, 0],\n",
       "         [0, 0, 0],\n",
       "         ...,\n",
       "         [0, 0, 0],\n",
       "         [0, 0, 0],\n",
       "         [0, 0, 0]],\n",
       " \n",
       "        [[0, 0, 0],\n",
       "         [0, 0, 0],\n",
       "         [0, 0, 0],\n",
       "         ...,\n",
       "         [0, 0, 0],\n",
       "         [0, 0, 0],\n",
       "         [0, 0, 0]],\n",
       " \n",
       "        [[0, 0, 0],\n",
       "         [0, 0, 0],\n",
       "         [0, 0, 0],\n",
       "         ...,\n",
       "         [0, 0, 0],\n",
       "         [0, 0, 0],\n",
       "         [0, 0, 0]]], dtype=uint8),\n",
       " {'lives': 5, 'episode_frame_number': 0, 'frame_number': 0})"
      ]
     },
     "execution_count": 3,
     "metadata": {},
     "output_type": "execute_result"
    }
   ],
   "source": [
    "env.reset()"
   ]
  },
  {
   "cell_type": "code",
   "execution_count": 4,
   "id": "0f138a8e-be57-46bd-8190-28f98c2f154f",
   "metadata": {},
   "outputs": [
    {
     "data": {
      "text/plain": [
       "3"
      ]
     },
     "execution_count": 4,
     "metadata": {},
     "output_type": "execute_result"
    }
   ],
   "source": [
    "env.action_space.sample()"
   ]
  },
  {
   "cell_type": "code",
   "execution_count": 5,
   "id": "7127cfa3-46d7-469a-ab8b-b3272bfdb124",
   "metadata": {},
   "outputs": [
    {
     "data": {
      "text/plain": [
       "Box(0, 255, (210, 160, 3), uint8)"
      ]
     },
     "execution_count": 5,
     "metadata": {},
     "output_type": "execute_result"
    }
   ],
   "source": [
    "env.observation_space\n"
   ]
  },
  {
   "cell_type": "code",
   "execution_count": null,
   "id": "6b4a2efb-349f-48be-8ed3-48669cc496c5",
   "metadata": {},
   "outputs": [
    {
     "name": "stderr",
     "output_type": "stream",
     "text": [
      "/Users/eudgen/Documents/ML/conda_ml/env/lib/python3.11/site-packages/gymnasium/utils/passive_env_checker.py:335: UserWarning: \u001b[33mWARN: No render fps was declared in the environment (env.metadata['render_fps'] is None or not defined), rendering may occur at inconsistent fps.\u001b[0m\n",
      "  logger.warn(\n"
     ]
    },
    {
     "name": "stdout",
     "output_type": "stream",
     "text": [
      "Episode:1, score:0.0\n"
     ]
    }
   ],
   "source": [
    "# viewing the env\n",
    "episodes = 5\n",
    "for episode in range(1, episodes+1):\n",
    "    env.reset()\n",
    "    done = False\n",
    "    score = 0\n",
    "\n",
    "    while not done:\n",
    "        env.render()\n",
    "        action = env.action_space.sample()\n",
    "        obs, reward, done, truncated, info = env.step(action)\n",
    "        score += reward\n",
    "    print(\"Episode:{}, score:{}\".format(episode, score))\n",
    "\n",
    "        \n",
    "        "
   ]
  },
  {
   "cell_type": "code",
   "execution_count": 9,
   "id": "a3bf1e25-ab71-4813-a59e-55b4f9a05137",
   "metadata": {},
   "outputs": [],
   "source": [
    "env.close()"
   ]
  },
  {
   "cell_type": "code",
   "execution_count": 10,
   "id": "09b790d6-e691-4144-bf7a-15cd774200a6",
   "metadata": {},
   "outputs": [],
   "source": [
    "# from  stable_baselines3.common.vec_env.dummy_vec_env import BaseVecEnv"
   ]
  },
  {
   "cell_type": "markdown",
   "id": "3a566ce7-2a4e-49ab-8c3d-e51f5b9879c3",
   "metadata": {},
   "source": [
    "## Vectorizing the Environment and Training the model"
   ]
  },
  {
   "cell_type": "code",
   "execution_count": 6,
   "id": "b86c6097-0f0b-418f-bdf2-11ad1f9d4576",
   "metadata": {},
   "outputs": [],
   "source": [
    "env = make_atari_env(\"Breakout-v4\", n_envs=4, seed=0)\n",
    "env = VecFrameStack(venv=env, n_stack=4) "
   ]
  },
  {
   "cell_type": "code",
   "execution_count": 12,
   "id": "0fa9e796-f402-49f3-8f41-0973b2d5c578",
   "metadata": {},
   "outputs": [],
   "source": [
    "# env = gym.make('Breakout-v4', render_mode=\"human\")\n"
   ]
  },
  {
   "cell_type": "code",
   "execution_count": 7,
   "id": "52610856-042d-464f-9c70-4035be50b955",
   "metadata": {},
   "outputs": [
    {
     "name": "stdout",
     "output_type": "stream",
     "text": [
      "Using cpu device\n",
      "Wrapping the env in a VecTransposeImage.\n"
     ]
    }
   ],
   "source": [
    "# Apply the Training Algo for agent : A2C model \n",
    "log_path = os.path.join('Training', 'Logs')\n",
    "log_path\n",
    "model = A2C('CnnPolicy', env, verbose=1, tensorboard_log=log_path)"
   ]
  },
  {
   "cell_type": "code",
   "execution_count": 9,
   "id": "4f3cdffb-3847-46ac-986d-270bf71212cb",
   "metadata": {},
   "outputs": [
    {
     "name": "stdout",
     "output_type": "stream",
     "text": [
      "Logging to Training/Logs/A2C_4\n",
      "------------------------------------\n",
      "| rollout/              |          |\n",
      "|    ep_len_mean        | 269      |\n",
      "|    ep_rew_mean        | 1.44     |\n",
      "| time/                 |          |\n",
      "|    fps                | 223      |\n",
      "|    iterations         | 100      |\n",
      "|    time_elapsed       | 8        |\n",
      "|    total_timesteps    | 2000     |\n",
      "| train/                |          |\n",
      "|    entropy_loss       | -1.38    |\n",
      "|    explained_variance | 0.0616   |\n",
      "|    learning_rate      | 0.0007   |\n",
      "|    n_updates          | 149      |\n",
      "|    policy_loss        | 0.417    |\n",
      "|    value_loss         | 0.282    |\n",
      "------------------------------------\n",
      "------------------------------------\n",
      "| rollout/              |          |\n",
      "|    ep_len_mean        | 272      |\n",
      "|    ep_rew_mean        | 1.4      |\n",
      "| time/                 |          |\n",
      "|    fps                | 223      |\n",
      "|    iterations         | 200      |\n",
      "|    time_elapsed       | 17       |\n",
      "|    total_timesteps    | 4000     |\n",
      "| train/                |          |\n",
      "|    entropy_loss       | -1.37    |\n",
      "|    explained_variance | -0.173   |\n",
      "|    learning_rate      | 0.0007   |\n",
      "|    n_updates          | 249      |\n",
      "|    policy_loss        | 0.022    |\n",
      "|    value_loss         | 0.0825   |\n",
      "------------------------------------\n",
      "------------------------------------\n",
      "| rollout/              |          |\n",
      "|    ep_len_mean        | 275      |\n",
      "|    ep_rew_mean        | 1.4      |\n",
      "| time/                 |          |\n",
      "|    fps                | 223      |\n",
      "|    iterations         | 300      |\n",
      "|    time_elapsed       | 26       |\n",
      "|    total_timesteps    | 6000     |\n",
      "| train/                |          |\n",
      "|    entropy_loss       | -1.3     |\n",
      "|    explained_variance | 0.837    |\n",
      "|    learning_rate      | 0.0007   |\n",
      "|    n_updates          | 349      |\n",
      "|    policy_loss        | -0.0482  |\n",
      "|    value_loss         | 0.0163   |\n",
      "------------------------------------\n",
      "------------------------------------\n",
      "| rollout/              |          |\n",
      "|    ep_len_mean        | 286      |\n",
      "|    ep_rew_mean        | 1.62     |\n",
      "| time/                 |          |\n",
      "|    fps                | 224      |\n",
      "|    iterations         | 400      |\n",
      "|    time_elapsed       | 35       |\n",
      "|    total_timesteps    | 8000     |\n",
      "| train/                |          |\n",
      "|    entropy_loss       | -1.33    |\n",
      "|    explained_variance | 0.857    |\n",
      "|    learning_rate      | 0.0007   |\n",
      "|    n_updates          | 449      |\n",
      "|    policy_loss        | 0.189    |\n",
      "|    value_loss         | 0.0682   |\n",
      "------------------------------------\n",
      "------------------------------------\n",
      "| rollout/              |          |\n",
      "|    ep_len_mean        | 300      |\n",
      "|    ep_rew_mean        | 1.89     |\n",
      "| time/                 |          |\n",
      "|    fps                | 225      |\n",
      "|    iterations         | 500      |\n",
      "|    time_elapsed       | 44       |\n",
      "|    total_timesteps    | 10000    |\n",
      "| train/                |          |\n",
      "|    entropy_loss       | -1.07    |\n",
      "|    explained_variance | 0.956    |\n",
      "|    learning_rate      | 0.0007   |\n",
      "|    n_updates          | 549      |\n",
      "|    policy_loss        | -0.0275  |\n",
      "|    value_loss         | 0.016    |\n",
      "------------------------------------\n"
     ]
    },
    {
     "data": {
      "text/plain": [
       "<stable_baselines3.a2c.a2c.A2C at 0x1559d3450>"
      ]
     },
     "execution_count": 9,
     "metadata": {},
     "output_type": "execute_result"
    }
   ],
   "source": [
    " # Training the agent \n",
    "model.learn(total_timesteps=10000)"
   ]
  },
  {
   "cell_type": "markdown",
   "id": "77630db1-2f96-4991-88bb-11df0ce12143",
   "metadata": {},
   "source": [
    "## Saving and Reloading the Model "
   ]
  },
  {
   "cell_type": "code",
   "execution_count": 12,
   "id": "0f66c303-1dba-4f2b-a4b4-7a05162221f4",
   "metadata": {},
   "outputs": [
    {
     "data": {
      "text/plain": [
       "'Training/Saved Models/A2C_Atari_10k_Model'"
      ]
     },
     "execution_count": 12,
     "metadata": {},
     "output_type": "execute_result"
    }
   ],
   "source": [
    "A2C_path = os.path.join('Training', 'Saved Models', 'A2C_Atari_10k_Model')\n",
    "A2C_path"
   ]
  },
  {
   "cell_type": "code",
   "execution_count": 13,
   "id": "c5325ab7-d7df-44b8-ac15-ec60a6666574",
   "metadata": {},
   "outputs": [],
   "source": [
    "model.save(A2C_path)"
   ]
  },
  {
   "cell_type": "code",
   "execution_count": 14,
   "id": "fddaf7b6-644a-44c1-8ea0-410106a89d6e",
   "metadata": {},
   "outputs": [],
   "source": [
    "del model"
   ]
  },
  {
   "cell_type": "code",
   "execution_count": 15,
   "id": "a86c70c0-f698-4609-87a7-036f147fd907",
   "metadata": {},
   "outputs": [
    {
     "name": "stdout",
     "output_type": "stream",
     "text": [
      "Wrapping the env in a VecTransposeImage.\n"
     ]
    }
   ],
   "source": [
    "model = A2C.load(A2C_path, env) # reloading the env\n"
   ]
  },
  {
   "cell_type": "markdown",
   "id": "4689142a-7a65-4dac-93d1-dd0cf5a6195c",
   "metadata": {},
   "source": [
    "# 5. Evaluate the Model"
   ]
  },
  {
   "cell_type": "code",
   "execution_count": 29,
   "id": "29550068-43a6-470c-9fdf-5cb9eff8cc9f",
   "metadata": {},
   "outputs": [
    {
     "ename": "KeyError",
     "evalue": "1",
     "output_type": "error",
     "traceback": [
      "\u001b[0;31m---------------------------------------------------------------------------\u001b[0m",
      "\u001b[0;31mKeyError\u001b[0m                                  Traceback (most recent call last)",
      "Cell \u001b[0;32mIn[29], line 2\u001b[0m\n\u001b[1;32m      1\u001b[0m env \u001b[38;5;241m=\u001b[39m make_atari_env(\u001b[38;5;124m'\u001b[39m\u001b[38;5;124mBreakout-v4\u001b[39m\u001b[38;5;124m'\u001b[39m, n_envs\u001b[38;5;241m=\u001b[39m\u001b[38;5;241m1\u001b[39m, seed\u001b[38;5;241m=\u001b[39m\u001b[38;5;241m0\u001b[39m)\n\u001b[0;32m----> 2\u001b[0m env\u001b[38;5;241m.\u001b[39mmetadata[\u001b[38;5;241m1\u001b[39m]\n\u001b[1;32m      3\u001b[0m vec_env \u001b[38;5;241m=\u001b[39m VecFrameStack(env, n_stack\u001b[38;5;241m=\u001b[39m\u001b[38;5;241m4\u001b[39m)\n",
      "\u001b[0;31mKeyError\u001b[0m: 1"
     ]
    }
   ],
   "source": [
    "env = make_atari_env('Breakout-v4', n_envs=1, seed=0)\n",
    "env.metadata[]\n",
    "vec_env = VecFrameStack(env, n_stack=4)\n"
   ]
  },
  {
   "cell_type": "code",
   "execution_count": 26,
   "id": "7089b2a2-c71c-455c-9c70-018d7f1252df",
   "metadata": {},
   "outputs": [
    {
     "name": "stderr",
     "output_type": "stream",
     "text": [
      "/Users/eudgen/Documents/ML/conda_ml/env/lib/python3.11/site-packages/gymnasium/utils/passive_env_checker.py:335: UserWarning: \u001b[33mWARN: No render fps was declared in the environment (env.metadata['render_fps'] is None or not defined), rendering may occur at inconsistent fps.\u001b[0m\n",
      "  logger.warn(\n"
     ]
    },
    {
     "data": {
      "text/plain": [
       "(1.85, 1.3518505834595773)"
      ]
     },
     "execution_count": 26,
     "metadata": {},
     "output_type": "execute_result"
    }
   ],
   "source": [
    "evaluate_policy(model=model, env=vec_env, n_eval_episodes=20, render=True)"
   ]
  },
  {
   "cell_type": "code",
   "execution_count": null,
   "id": "72c10faa-e21d-41b6-bb5a-0dd80aca1699",
   "metadata": {},
   "outputs": [],
   "source": []
  }
 ],
 "metadata": {
  "kernelspec": {
   "display_name": "Python 3 (ipykernel)",
   "language": "python",
   "name": "python3"
  },
  "language_info": {
   "codemirror_mode": {
    "name": "ipython",
    "version": 3
   },
   "file_extension": ".py",
   "mimetype": "text/x-python",
   "name": "python",
   "nbconvert_exporter": "python",
   "pygments_lexer": "ipython3",
   "version": "3.11.5"
  }
 },
 "nbformat": 4,
 "nbformat_minor": 5
}
